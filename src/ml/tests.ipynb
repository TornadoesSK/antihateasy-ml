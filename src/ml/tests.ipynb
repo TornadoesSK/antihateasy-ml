{
 "cells": [
  {
   "cell_type": "code",
   "execution_count": 20,
   "metadata": {},
   "outputs": [],
   "source": [
    "import torch\n",
    "from torchtext.data.utils import get_tokenizer\n",
    "from torchtext.transforms import SentencePieceTokenizer\n",
    "from torchtext.models import RobertaClassificationHead\n",
    "from torchtext.models import XLMR_BASE_ENCODER\n",
    "\n",
    "from torchtext.vocab import GloVe\n",
    "import numpy as np\n",
    "from torch.nn.functional import pad\n"
   ]
  },
  {
   "cell_type": "code",
   "execution_count": 11,
   "metadata": {},
   "outputs": [],
   "source": [
    "test = \"Ahoj Michal . ! Super oo avc\""
   ]
  },
  {
   "cell_type": "code",
   "execution_count": 12,
   "metadata": {},
   "outputs": [
    {
     "data": {
      "text/plain": [
       "['ahoj', 'michal', '.', '!', 'super', 'oo', 'avc']"
      ]
     },
     "execution_count": 12,
     "metadata": {},
     "output_type": "execute_result"
    }
   ],
   "source": [
    "tokenizer = get_tokenizer(\"basic_english\")\n",
    "tokenizer(test)"
   ]
  },
  {
   "cell_type": "code",
   "execution_count": 13,
   "metadata": {},
   "outputs": [],
   "source": [
    "glv = GloVe(name=\"6B\", dim=50)"
   ]
  },
  {
   "cell_type": "code",
   "execution_count": 14,
   "metadata": {},
   "outputs": [],
   "source": [
    "tens = glv.get_vecs_by_tokens(tokenizer(test))"
   ]
  },
  {
   "cell_type": "code",
   "execution_count": 15,
   "metadata": {},
   "outputs": [],
   "source": [
    "import pandas as pd\n",
    "data = pd.read_csv(\"../../../data-davidson/data/labeled_data.csv\")\n",
    "data = data.drop([\"Unnamed: 0\", \"count\", \"hate_speech\", \"offensive_language\", \"neither\"], axis=1)\n",
    "data = data.reindex(columns=[\"tweet\", \"class\"])\n",
    "data = data.to_numpy()"
   ]
  },
  {
   "cell_type": "code",
   "execution_count": 184,
   "metadata": {},
   "outputs": [],
   "source": [
    "MAX_LENGTH = 50\n",
    "DIMS = 50"
   ]
  },
  {
   "cell_type": "code",
   "execution_count": 200,
   "metadata": {},
   "outputs": [],
   "source": [
    "def collate(batch):\n",
    "    x_arr, y_arr = [], []\n",
    "    for tweet, label in batch:\n",
    "        tweet = glv.get_vecs_by_tokens(tokenizer(tweet))[:MAX_LENGTH, :]\n",
    "        padding = torch.zeros(MAX_LENGTH-tweet.shape[0], DIMS)\n",
    "        tweet = torch.cat((tweet, padding), dim=0)\n",
    "        x_arr.append(tweet.unsqueeze(0))\n",
    "        y_arr.append(label)\n",
    "\n",
    "    x = torch.cat(x_arr)\n",
    "    y = torch.tensor(y_arr)\n",
    "\n",
    "    return x, y\n",
    "    # print(len(batch[0]))"
   ]
  },
  {
   "cell_type": "code",
   "execution_count": 180,
   "metadata": {},
   "outputs": [
    {
     "data": {
      "text/plain": [
       "tensor([[0., 1., 0.],\n",
       "        [0., 1., 0.]])"
      ]
     },
     "execution_count": 180,
     "metadata": {},
     "output_type": "execute_result"
    }
   ],
   "source": [
    "torch.cat([torch.tensor([[0.0,1.0,0]]), torch.tensor([[0.0,1.0,0]])])"
   ]
  },
  {
   "cell_type": "code",
   "execution_count": 201,
   "metadata": {},
   "outputs": [],
   "source": [
    "from torch.utils.data import DataLoader\n",
    "\n",
    "dl = DataLoader(data, batch_size=16, collate_fn=collate)"
   ]
  },
  {
   "cell_type": "code",
   "execution_count": 34,
   "metadata": {},
   "outputs": [
    {
     "data": {
      "text/plain": [
       "(24783, 2)"
      ]
     },
     "execution_count": 34,
     "metadata": {},
     "output_type": "execute_result"
    }
   ],
   "source": [
    "data = pd.read_csv(\"../../../data-davidson/data/labeled_data.csv\")\n",
    "data = data.drop([\"Unnamed: 0\", \"count\", \"hate_speech\", \"offensive_language\", \"neither\"], axis=1)\n",
    "data = data.reindex(columns=[\"tweet\", \"class\"])\n",
    "data.to_numpy().shape"
   ]
  },
  {
   "cell_type": "code",
   "execution_count": 40,
   "metadata": {},
   "outputs": [
    {
     "data": {
      "text/plain": [
       "(array([0, 1, 2], dtype=object), array([ 1430, 19190,  4163]))"
      ]
     },
     "execution_count": 40,
     "metadata": {},
     "output_type": "execute_result"
    }
   ],
   "source": [
    "np.unique(data.to_numpy()[:, 1], return_counts=True)\n"
   ]
  },
  {
   "cell_type": "code",
   "execution_count": 25,
   "metadata": {},
   "outputs": [
    {
     "name": "stdout",
     "output_type": "stream",
     "text": [
      "0.05770084332001776\n",
      "0.7743211072105879\n",
      "0.16797804946939435\n"
     ]
    }
   ],
   "source": [
    "print(np.unique(data[:, 1], return_counts=True)[1][0] / data.shape[0])\n",
    "print(np.unique(data[:, 1], return_counts=True)[1][1] / data.shape[0])\n",
    "print(np.unique(data[:, 1], return_counts=True)[1][2] / data.shape[0])\n"
   ]
  },
  {
   "cell_type": "code",
   "execution_count": 44,
   "metadata": {},
   "outputs": [],
   "source": [
    "data = pd.read_csv(\"../../../data-davidson/data/labeled_data.csv\")\n",
    "data = data.drop([\"Unnamed: 0\", \"count\", \"hate_speech\", \"offensive_language\", \"neither\"], axis=1)\n",
    "data = data.reindex(columns=[\"tweet\", \"class\"])"
   ]
  },
  {
   "cell_type": "code",
   "execution_count": 49,
   "metadata": {},
   "outputs": [
    {
     "name": "stdout",
     "output_type": "stream",
     "text": [
      "0.32338308457711445\n",
      "0.3471279963817277\n",
      "0.32948891904115785\n"
     ]
    }
   ],
   "source": [
    "df = data.drop(\n",
    "    data[data[\"class\"] == 1]\n",
    "    .sample(frac=0.92)\n",
    "    .index\n",
    ")\n",
    "\n",
    "df = df.drop(\n",
    "    df[df[\"class\"] == 2]\n",
    "    .sample(frac=0.65)\n",
    "    .index\n",
    ").to_numpy()\n",
    "\n",
    "print(np.unique(df[:, 1], return_counts=True)[1][0] / df.shape[0])\n",
    "print(np.unique(df[:, 1], return_counts=True)[1][1] / df.shape[0])\n",
    "print(np.unique(df[:, 1], return_counts=True)[1][2] / df.shape[0])"
   ]
  },
  {
   "cell_type": "code",
   "execution_count": null,
   "metadata": {},
   "outputs": [],
   "source": []
  }
 ],
 "metadata": {
  "interpreter": {
   "hash": "5bc1c1bd0718088abbfd128e494961034fa09678758e3ccadbb62ed12465b326"
  },
  "kernelspec": {
   "display_name": "Python 3.9.12 ('bachelor-env')",
   "language": "python",
   "name": "python3"
  },
  "language_info": {
   "codemirror_mode": {
    "name": "ipython",
    "version": 3
   },
   "file_extension": ".py",
   "mimetype": "text/x-python",
   "name": "python",
   "nbconvert_exporter": "python",
   "pygments_lexer": "ipython3",
   "version": "3.9.12"
  },
  "orig_nbformat": 4
 },
 "nbformat": 4,
 "nbformat_minor": 2
}
